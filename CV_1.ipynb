{
  "nbformat": 4,
  "nbformat_minor": 0,
  "metadata": {
    "colab": {
      "provenance": [],
      "authorship_tag": "ABX9TyP2+KqXOEw/+NgnF+MGA95R",
      "include_colab_link": true
    },
    "kernelspec": {
      "name": "python3",
      "display_name": "Python 3"
    },
    "language_info": {
      "name": "python"
    }
  },
  "cells": [
    {
      "cell_type": "markdown",
      "metadata": {
        "id": "view-in-github",
        "colab_type": "text"
      },
      "source": [
        "<a href=\"https://colab.research.google.com/github/emblondel/AI-Portfolio/blob/master/CV_1.ipynb\" target=\"_parent\"><img src=\"https://colab.research.google.com/assets/colab-badge.svg\" alt=\"Open In Colab\"/></a>"
      ]
    },
    {
      "cell_type": "code",
      "execution_count": 1,
      "metadata": {
        "id": "_MiIyvbr688I"
      },
      "outputs": [],
      "source": [
        "import tensorflow as tf\n",
        "from tensorflow import keras\n",
        "from tensorflow.keras import layers"
      ]
    },
    {
      "cell_type": "code",
      "source": [
        "!pwd\n",
        "!ls\n",
        "\n",
        "!cd images"
      ],
      "metadata": {
        "colab": {
          "base_uri": "https://localhost:8080/"
        },
        "id": "Hi5Nuk5TA1RE",
        "outputId": "b569a4ce-cc42-4e22-d854-6984ec9e5516"
      },
      "execution_count": 18,
      "outputs": [
        {
          "output_type": "stream",
          "name": "stdout",
          "text": [
            "/content\n",
            " images  'images.zip?dl=0'   sample_data\n"
          ]
        }
      ]
    },
    {
      "cell_type": "code",
      "source": [
        "!mkdir images\n",
        "%cd images\n",
        "!wget -O images.zip https://www.dropbox.com/s/kseo7zrqo4nah8y/images.zip?dl=0\n",
        "# !mv images.zip images/\n",
        "!unzip -q images.zip\n",
        "!rm -f images.zip\n",
        "%cd /content\n",
        "!ls images"
      ],
      "metadata": {
        "colab": {
          "base_uri": "https://localhost:8080/"
        },
        "id": "0StStYxL_JNw",
        "outputId": "99532d2c-18c4-4dc5-ea13-9798b523ed4f"
      },
      "execution_count": 19,
      "outputs": [
        {
          "output_type": "stream",
          "name": "stdout",
          "text": [
            "--2023-05-10 09:37:31--  https://www.dropbox.com/s/kseo7zrqo4nah8y/images.zip?dl=0\n",
            "Resolving www.dropbox.com (www.dropbox.com)... 162.125.3.18, 2620:100:6021:18::a27d:4112\n",
            "Connecting to www.dropbox.com (www.dropbox.com)|162.125.3.18|:443... connected.\n",
            "HTTP request sent, awaiting response... 302 Found\n",
            "Location: /s/raw/kseo7zrqo4nah8y/images.zip [following]\n",
            "--2023-05-10 09:37:31--  https://www.dropbox.com/s/raw/kseo7zrqo4nah8y/images.zip\n",
            "Reusing existing connection to www.dropbox.com:443.\n",
            "HTTP request sent, awaiting response... 302 Found\n",
            "Location: https://uc2e804ce904f57e8ab2fa6c5fdd.dl.dropboxusercontent.com/cd/0/inline/B7xILGJ8pVcRchu9aM2TglH0AoMHuXDBQbpB1uH7QWaE9r0zM_q4X4dfYnW7UA_-zdtKPhu04LAAwd_MrAb4v542Vn491XTAqZhEpdSr1_R_uuCjBS5ICOziEJ-e06CNsGj-Gh7KqDRKy0DLj171IkuU4ws321rE1m_cPkzUTUNwVA/file# [following]\n",
            "--2023-05-10 09:37:32--  https://uc2e804ce904f57e8ab2fa6c5fdd.dl.dropboxusercontent.com/cd/0/inline/B7xILGJ8pVcRchu9aM2TglH0AoMHuXDBQbpB1uH7QWaE9r0zM_q4X4dfYnW7UA_-zdtKPhu04LAAwd_MrAb4v542Vn491XTAqZhEpdSr1_R_uuCjBS5ICOziEJ-e06CNsGj-Gh7KqDRKy0DLj171IkuU4ws321rE1m_cPkzUTUNwVA/file\n",
            "Resolving uc2e804ce904f57e8ab2fa6c5fdd.dl.dropboxusercontent.com (uc2e804ce904f57e8ab2fa6c5fdd.dl.dropboxusercontent.com)... 162.125.2.15, 2620:100:6017:15::a27d:20f\n",
            "Connecting to uc2e804ce904f57e8ab2fa6c5fdd.dl.dropboxusercontent.com (uc2e804ce904f57e8ab2fa6c5fdd.dl.dropboxusercontent.com)|162.125.2.15|:443... connected.\n",
            "HTTP request sent, awaiting response... 302 Found\n",
            "Location: /cd/0/inline2/B7zvcXt5F9a704smklvL7MpqKqv3HCsEwIVFuAcVYN_yX2xQt8E9FU_GOm1tGnls7ZpDStKwngNN-1TH-gfJE3iZS0h_wwcoZvz3coh8LcXjDa8C-3h2oVA2ckHdz55NYoLXsVHNpsfA2BjT-AoS08BQOApalB7HoMxyMDn4Gxd87p5khIlLeSWHYFGTGdenZ2p4dH3r2ztWOvJY85V9tNyKL7PZkxghmuLIVXfUYzYos9wyvgURjGWWc1I_z0iPRTZh--HuHgUnjTcUUxu-8NJyLFldiOt1LDEimtiVoWcRa6Y0CADjvO22lXfZ1GH3rQKzd384tuxGji_RkdCJXRCtFTbBHLNpLHhdU-MxsbMUBoMd7YXnm0qH3cV06nHxbN8ijVvLf8gAMciB5XRKCLJE6GjyREc9kXE05j99uzlGBg/file [following]\n",
            "--2023-05-10 09:37:32--  https://uc2e804ce904f57e8ab2fa6c5fdd.dl.dropboxusercontent.com/cd/0/inline2/B7zvcXt5F9a704smklvL7MpqKqv3HCsEwIVFuAcVYN_yX2xQt8E9FU_GOm1tGnls7ZpDStKwngNN-1TH-gfJE3iZS0h_wwcoZvz3coh8LcXjDa8C-3h2oVA2ckHdz55NYoLXsVHNpsfA2BjT-AoS08BQOApalB7HoMxyMDn4Gxd87p5khIlLeSWHYFGTGdenZ2p4dH3r2ztWOvJY85V9tNyKL7PZkxghmuLIVXfUYzYos9wyvgURjGWWc1I_z0iPRTZh--HuHgUnjTcUUxu-8NJyLFldiOt1LDEimtiVoWcRa6Y0CADjvO22lXfZ1GH3rQKzd384tuxGji_RkdCJXRCtFTbBHLNpLHhdU-MxsbMUBoMd7YXnm0qH3cV06nHxbN8ijVvLf8gAMciB5XRKCLJE6GjyREc9kXE05j99uzlGBg/file\n",
            "Reusing existing connection to uc2e804ce904f57e8ab2fa6c5fdd.dl.dropboxusercontent.com:443.\n",
            "HTTP request sent, awaiting response... 200 OK\n",
            "Length: 134328230 (128M) [application/zip]\n",
            "Saving to: ‘images.zip’\n",
            "\n",
            "images.zip          100%[===================>] 128.10M  79.0MB/s    in 1.6s    \n",
            "\n",
            "2023-05-10 09:37:34 (79.0 MB/s) - ‘images.zip’ saved [134328230/134328230]\n",
            "\n"
          ]
        }
      ]
    },
    {
      "cell_type": "code",
      "source": [
        "!unzip -q images.zip\n",
        "!ls"
      ],
      "metadata": {
        "colab": {
          "base_uri": "https://localhost:8080/"
        },
        "id": "s5TKqO0n7FMw",
        "outputId": "7f14092b-c6be-4ec4-a086-73ff91796e1a"
      },
      "execution_count": 37,
      "outputs": [
        {
          "output_type": "stream",
          "name": "stdout",
          "text": [
            "images.zip  OD\tOS\n"
          ]
        }
      ]
    },
    {
      "cell_type": "code",
      "source": [
        "!rm -rf OS"
      ],
      "metadata": {
        "id": "LXqRcAAA7U6E"
      },
      "execution_count": 25,
      "outputs": []
    },
    {
      "cell_type": "code",
      "source": [
        "image_size = (180, 180)\n",
        "batch_size = 128\n",
        "\n",
        "train_ds, val_ds = tf.keras.utils.image_dataset_from_directory(\n",
        "    \"images\",\n",
        "    validation_split=0.2,\n",
        "    subset=\"both\",\n",
        "    seed=1337,\n",
        "    image_size=image_size,\n",
        "    batch_size=batch_size,\n",
        ")"
      ],
      "metadata": {
        "id": "2929mMCU7W_O"
      },
      "execution_count": null,
      "outputs": []
    },
    {
      "cell_type": "code",
      "source": [
        "import matplotlib.pyplot as plt\n",
        "\n",
        "plt.figure(figsize=(10, 10))\n",
        "for images, labels in train_ds.take(1):\n",
        "    for i in range(9):\n",
        "        ax = plt.subplot(3, 3, i + 1)\n",
        "        plt.imshow(images[i].numpy().astype(\"uint8\"))\n",
        "        plt.title(int(labels[i]))\n",
        "        plt.axis(\"off\")"
      ],
      "metadata": {
        "id": "eaUwKczg8NgY"
      },
      "execution_count": null,
      "outputs": []
    }
  ]
}